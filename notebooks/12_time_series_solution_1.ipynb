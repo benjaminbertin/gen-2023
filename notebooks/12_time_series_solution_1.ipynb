{
 "cells": [
  {
   "cell_type": "markdown",
   "metadata": {
    "id": "YT2Czxw-t_6p"
   },
   "source": [
    "# 12. Manipulation de séries temporelles\n",
    "\n",
    "Ce notebook permet de découvrir la manipulation des données temporelles avec l'écosystème pandas. Nous découvrirons quelques problématiques courantes lors de la manipulation de données temporelles (changement d'échelle de dates, enrichissement de données, sélection de données, ...).\n",
    "\n",
    "Le dataset utilisé correspond au trafic automobile sur une route comportant plusieurs voies de circulation. Les trafics des différentes voies ont été agrégés en une valeur `flow`. L'attribut `velocity` indique la vitesse moyenne des véhicules sur toutes les voies. Deux colonnes indiquent si la mesure a été prise pendant un jour férié ou pendant une période de vacance scolaire."
   ]
  },
  {
   "cell_type": "code",
   "execution_count": null,
   "metadata": {
    "colab": {
     "base_uri": "https://localhost:8080/",
     "height": 36
    },
    "id": "ZIVim0y0Hi8v",
    "outputId": "a4158ba1-02d1-4090-ef52-5c20da4b7bf9"
   },
   "outputs": [],
   "source": [
    "import plotly\n",
    "plotly.__version__"
   ]
  },
  {
   "cell_type": "code",
   "execution_count": null,
   "metadata": {
    "colab": {
     "base_uri": "https://localhost:8080/",
     "height": 88
    },
    "id": "4WpDYRqLrCzg",
    "outputId": "c9e732ff-fe5a-4268-9d50-42b4f4eabcfc"
   },
   "outputs": [],
   "source": [
    "!pip install plotly==5.3.1\n",
    "import plotly\n",
    "\n",
    "plotly.__version__"
   ]
  },
  {
   "cell_type": "code",
   "execution_count": null,
   "metadata": {
    "id": "lbATG16arD1t"
   },
   "outputs": [],
   "source": [
    "import plotly.express as px\n",
    "import pandas as pd\n",
    "import numpy as np\n",
    "\n",
    "import matplotlib.pyplot as plt\n",
    "\n",
    "import plotly as py\n",
    "import plotly.graph_objs as go\n",
    "#py.offline.init_notebook_mode(connected=True)"
   ]
  },
  {
   "cell_type": "markdown",
   "metadata": {
    "id": "_c2MtCu_tmlk"
   },
   "source": [
    "## 12.1 Chargement du dataset\n",
    "\n",
    "Chargez le fichier `data/traffic-data.csv` dans une dataframe, puis :\n",
    "* Affichez les types des colonnes du dataset\n",
    "* Visualisez les 20 premières lignes et un échantillon pour intépréter les colonnes non numériques\n",
    "* Affichez une description statistique des variables numériques\n",
    "* Affichez un histogramme et un boxplot pour chaque grandeur numérique\n",
    "* Affichez la matrice de corrélation entre ces grandeurs numériques\n",
    "* Testez la significativité de la corrélation de pearson entre `flow` et `velocity` avec [`scipy.stats.pearsonr`](https://docs.scipy.org/doc/scipy/reference/generated/scipy.stats.pearsonr.html)"
   ]
  },
  {
   "cell_type": "code",
   "execution_count": null,
   "metadata": {
    "id": "KoJX02R3t4PR"
   },
   "outputs": [],
   "source": [
    "filename = 'data/traffic-data.csv'\n",
    "data = pd.read_csv(filename)"
   ]
  },
  {
   "cell_type": "code",
   "execution_count": null,
   "metadata": {
    "colab": {
     "base_uri": "https://localhost:8080/"
    },
    "id": "0YkDEbPMv33o",
    "outputId": "f519973b-e2bf-4ece-8219-052467030092"
   },
   "outputs": [],
   "source": [
    "data.info()"
   ]
  },
  {
   "cell_type": "code",
   "execution_count": null,
   "metadata": {
    "colab": {
     "base_uri": "https://localhost:8080/",
     "height": 676
    },
    "id": "hKoIYRHziYtx",
    "outputId": "f358bb58-07cf-47c4-9f2f-c5c1445d7486"
   },
   "outputs": [],
   "source": [
    "data.head(20)"
   ]
  },
  {
   "cell_type": "code",
   "execution_count": null,
   "metadata": {
    "colab": {
     "base_uri": "https://localhost:8080/",
     "height": 300
    },
    "id": "vrteDeKU12RN",
    "outputId": "3411bd13-a0b2-4a01-ec5c-8faaa19bcd56"
   },
   "outputs": [],
   "source": [
    "data.describe()"
   ]
  },
  {
   "cell_type": "code",
   "execution_count": null,
   "metadata": {
    "colab": {
     "base_uri": "https://localhost:8080/",
     "height": 618
    },
    "id": "xJcilRD816lZ",
    "outputId": "1622726d-fa09-4fb8-8044-689ab06cb365"
   },
   "outputs": [],
   "source": [
    "data[['flow', 'occupation', 'velocity']].hist(figsize=(20, 10))\n",
    "plt.show()"
   ]
  },
  {
   "cell_type": "code",
   "execution_count": null,
   "metadata": {
    "colab": {
     "base_uri": "https://localhost:8080/",
     "height": 447
    },
    "id": "gKjM3kmj3wBI",
    "outputId": "c8ac57ef-8bfb-4484-8fcb-53d738c1e30b"
   },
   "outputs": [],
   "source": [
    "data.boxplot()"
   ]
  },
  {
   "cell_type": "code",
   "execution_count": null,
   "metadata": {
    "colab": {
     "base_uri": "https://localhost:8080/",
     "height": 143
    },
    "id": "u2PM-NK24RSv",
    "outputId": "924ccb85-ff75-4825-83a1-7ce81593d7b6"
   },
   "outputs": [],
   "source": [
    "data[['flow','occupation', 'velocity']].corr(method='pearson')"
   ]
  },
  {
   "cell_type": "code",
   "execution_count": null,
   "metadata": {
    "colab": {
     "base_uri": "https://localhost:8080/"
    },
    "id": "nzHkcWcfzsz-",
    "outputId": "92b8c89e-de8a-4f96-cabd-40653dd94585"
   },
   "outputs": [],
   "source": [
    "from scipy.stats import pearsonr\n",
    "\n",
    "pearsonr(data.flow, data.velocity)"
   ]
  },
  {
   "cell_type": "markdown",
   "metadata": {
    "id": "oM_Ew6c3zh1e"
   },
   "source": [
    "## 12.2 Manipulation des dates\n",
    "\n",
    "Il existe de nombreux formats pour les valeurs de temps (timestamps) : Timestamps numpy et datetime en particulier. Jouons un peu avec ces formats :\n",
    "\n",
    "A l'aide du module [`time`](https://docs.python.org/3/library/time.html), définissez une variable `current_time` calculée au moment de l'exécution. Puis utilisez la méthode [`strftime`](https://docs.python.org/3/library/datetime.html#datetime.date.strftime) pour la convertir sous la forme d'une chaîne de caractère au format `YYYY-MM-DD HH:mm:ss` et stockez cette chaine dans une variable :"
   ]
  },
  {
   "cell_type": "code",
   "execution_count": null,
   "metadata": {
    "colab": {
     "base_uri": "https://localhost:8080/"
    },
    "id": "FPG8cgSp0lKZ",
    "outputId": "a49a7153-b5a6-495f-d332-facf7c4aa0b6"
   },
   "outputs": [],
   "source": [
    "import time\n",
    "\n",
    "current_time = time.localtime()\n",
    "str_current_time = time.strftime(\"%Y-%m-%d %H:%M:%S\", current_time)\n",
    "print(str_current_time)"
   ]
  },
  {
   "cell_type": "markdown",
   "metadata": {
    "id": "w1epaM0W61wW"
   },
   "source": [
    "Convertissez cette chaîne de caractère au format `np.datetime64` :"
   ]
  },
  {
   "cell_type": "code",
   "execution_count": null,
   "metadata": {
    "colab": {
     "base_uri": "https://localhost:8080/"
    },
    "id": "GZr9cIom5Fh0",
    "outputId": "679e548c-9ed1-4ce9-f8c1-369bc30422da"
   },
   "outputs": [],
   "source": [
    "np_current_time = np.datetime64(str_current_time)\n",
    "np_current_time"
   ]
  },
  {
   "cell_type": "markdown",
   "metadata": {
    "id": "WUsp0k2fSAAt"
   },
   "source": [
    "Utilisez la méthode [`datetime.datetime.strptime`](https://docs.python.org/3/library/datetime.html#datetime.datetime.strptime) du package `datetime` pour parser la date qui est sous forme de chaîne de caractères en datetime :"
   ]
  },
  {
   "cell_type": "code",
   "execution_count": null,
   "metadata": {
    "colab": {
     "base_uri": "https://localhost:8080/"
    },
    "id": "VPUfPQZkSAM_",
    "outputId": "b2c045b9-6e12-4d00-8c0f-388d5b0329db"
   },
   "outputs": [],
   "source": [
    "from datetime import datetime as dt\n",
    "dt.strptime(str_current_time, \"%Y-%m-%d %H:%M:%S\")"
   ]
  },
  {
   "cell_type": "markdown",
   "metadata": {
    "id": "1l5KRNVhSQJl"
   },
   "source": [
    "Transformez la date depuis le format numpy vers le format datetime :"
   ]
  },
  {
   "cell_type": "code",
   "execution_count": null,
   "metadata": {
    "colab": {
     "base_uri": "https://localhost:8080/"
    },
    "id": "-KV5Vcs5SQSy",
    "outputId": "941cf0f9-f9f6-4726-a165-cc112af08673"
   },
   "outputs": [],
   "source": [
    "dt.strptime(str(np_current_time), \"%Y-%m-%dT%H:%M:%S\")"
   ]
  },
  {
   "cell_type": "markdown",
   "metadata": {
    "id": "BeBeQKhF0G_R"
   },
   "source": [
    "Le format de données [`datetime`](https://docs.python.org/3/library/datetime.html#datetime-objects) est le plus riche : il offre le plus de fonctionnalités, comme l'accès à certains attributs très utiles pour les dates : année, mois, semaine dans le calendrier annuel, jour de la semaine... Pour pouvoir en tirer parti, il faut convertir nos horodates en datetime. Convertissez la colonne `horodate` en datetime en utilisant la fonction [`pandas.to_datetime`](https://pandas.pydata.org/docs/reference/api/pandas.to_datetime.html) :"
   ]
  },
  {
   "cell_type": "code",
   "execution_count": null,
   "metadata": {
    "id": "00cXJ9ZqlCNs"
   },
   "outputs": [],
   "source": [
    "data['horodate'] = pd.to_datetime(data.horodate)"
   ]
  },
  {
   "cell_type": "markdown",
   "metadata": {
    "id": "9B3-q3nO0gzn"
   },
   "source": [
    "Ajoutez à data une colonne pour :\n",
    "- l'année\n",
    "- le mois\n",
    "- la date (YYYY-MM-DD)\n",
    "- le jour de la semaine\n",
    "- l'heure\n",
    "- la minute"
   ]
  },
  {
   "cell_type": "code",
   "execution_count": null,
   "metadata": {
    "id": "-ak_bHWWUfT6"
   },
   "outputs": [],
   "source": [
    "data['year'] = data['horodate'].dt.year\n",
    "data['month'] = data['horodate'].dt.month\n",
    "data['date'] = data['horodate'].dt.date\n",
    "data['weekday'] = data['horodate'].dt.weekday\n",
    "data['hour'] = data['horodate'].dt.hour\n",
    "data['minute'] = data['horodate'].dt.minute"
   ]
  },
  {
   "cell_type": "code",
   "execution_count": null,
   "metadata": {
    "colab": {
     "base_uri": "https://localhost:8080/",
     "height": 423
    },
    "id": "Yakl-9w0Hi8z",
    "outputId": "ced9ef37-5d85-45ab-bd10-216f71a732a0"
   },
   "outputs": [],
   "source": [
    "data"
   ]
  },
  {
   "cell_type": "markdown",
   "metadata": {
    "id": "DcMXqFdehOK1"
   },
   "source": [
    "## 12.3 Vérification de la complétion temporelle de la série"
   ]
  },
  {
   "cell_type": "markdown",
   "metadata": {
    "id": "ooiJxGqkWXTX"
   },
   "source": [
    "Une série temporelle possède une fréquence $F$ : toutes les $F$ secondes, une valeur doit être présente dans les données.\n",
    "Il peut arriver qu'une série temporelle soit incomplète. Deux cas peuvent expliquer cela :\n",
    "1. Absence d'enregistrement à une horodate donnée donnant lieu à un tuple manquant.\n",
    "2. Absence de données due au changement d'horaire. En effet, les séries temporelles sont souvent exprimées sur l'échelle de temps UTC, qui est une échelle universelle. Les échelles de temps locales sont généralement décalées par rapport à UTC et la valeur de ce décalage change avec le changement d'heure hiverna/estival.\n",
    "\n",
    "Or pour certains usages (ex. pour la prédiction de trafic), les régularités de trafic s'observent non pas en UTC, mais en temps local.\n",
    "\n",
    "Il est donc nécessaire de convertir des données UTC en localtime, ce qui genère des trous et des redondances dans les données..."
   ]
  },
  {
   "cell_type": "markdown",
   "metadata": {
    "id": "EsEf6hhlWLJ5"
   },
   "source": [
    "Trouvez les dates de début et de fin du dataset et calculez l'extension temporelle correspondante :"
   ]
  },
  {
   "cell_type": "code",
   "execution_count": null,
   "metadata": {
    "colab": {
     "base_uri": "https://localhost:8080/"
    },
    "id": "ffFagKg5XTfA",
    "outputId": "bc716a3e-40f5-4f9e-d2dc-30a06769e573"
   },
   "outputs": [],
   "source": [
    "start = data.horodate.min()\n",
    "end = data.horodate.max()\n",
    "\n",
    "timerange = end -start\n",
    "timerange"
   ]
  },
  {
   "cell_type": "markdown",
   "metadata": {
    "id": "yFqjz6eoHi8z"
   },
   "source": [
    "Pour convertir les datetime UTC en dates locales (CET), nous pouvons utiliser Pandas ou la librairire pytz. Une datetime est par défaut sans timezone (timezone naive). Il faut donc dans un premier temps convertir notre datetime en timezone aware puis la convertir dans la timezone cible.\n",
    "\n",
    "Notez la présence de la timezone dans l'affichage de la nouvelle datetime et la conversion en temps local dans la sortie du formattage de cette datetime."
   ]
  },
  {
   "cell_type": "code",
   "execution_count": null,
   "metadata": {
    "colab": {
     "base_uri": "https://localhost:8080/"
    },
    "id": "Y6-04uMtHi8z",
    "outputId": "1b7378ff-6b05-4c22-808b-8bb26479a27b"
   },
   "outputs": [],
   "source": [
    "import pytz\n",
    "\n",
    "mydt = dt(2018, 5, 25, 15, 12, 30)\n",
    "\n",
    "cet_tz = pytz.timezone('CET')\n",
    "mydt_utc = pytz.utc.localize(mydt)\n",
    "print(mydt_utc)\n",
    "\n",
    "mydt_cet = mydt_utc.astimezone(cet_tz)\n",
    "print(mydt_cet)\n",
    "\n",
    "print(mydt.strftime(\"%Y-%m-%d %H:%M:%S\"))\n",
    "cet_tz.utcoffset(mydt)"
   ]
  },
  {
   "cell_type": "markdown",
   "metadata": {
    "id": "NSRzP0vXHi8z"
   },
   "source": [
    "Créez une fonction `convert_utc_to_cet` prenant en paramètre une datetime et renvoyant cette datetime dans la timezone CET, puis créez une nouvelle colonne `localtime_horodate` dans votre dataframe en utilisant la méthode [`pandas.Series.apply`](https://pandas.pydata.org/docs/reference/api/pandas.Series.apply.html) sur la colonne `horodate` :"
   ]
  },
  {
   "cell_type": "code",
   "execution_count": null,
   "metadata": {
    "id": "jHyRZ9lModPD"
   },
   "outputs": [],
   "source": [
    "def convert_utc_to_localtime(date):\n",
    "    cet_tz = pytz.timezone('CET')\n",
    "    return pytz.utc.localize(date).astimezone(cet_tz)"
   ]
  },
  {
   "cell_type": "code",
   "execution_count": null,
   "metadata": {
    "id": "Ovim17ldswjh"
   },
   "outputs": [],
   "source": [
    "data['localtime_horodate'] = data.horodate.apply(convert_utc_to_localtime)"
   ]
  },
  {
   "cell_type": "code",
   "execution_count": null,
   "metadata": {
    "colab": {
     "base_uri": "https://localhost:8080/",
     "height": 597
    },
    "id": "KJbwWtxJdVLZ",
    "outputId": "d4731312-5a7c-4b11-f146-19a3e969a0a9",
    "scrolled": true
   },
   "outputs": [],
   "source": [
    "data"
   ]
  },
  {
   "cell_type": "markdown",
   "metadata": {
    "id": "x5g_t7kGHi80"
   },
   "source": [
    "Est-ce que cette méthode prend en compte les changements d'heures d'été/d'hiver ?"
   ]
  },
  {
   "cell_type": "code",
   "execution_count": null,
   "metadata": {
    "colab": {
     "base_uri": "https://localhost:8080/",
     "height": 597
    },
    "id": "Fot4nXzvHi80",
    "outputId": "c5276609-119b-45a4-d666-762818a1bbce",
    "scrolled": true
   },
   "outputs": [],
   "source": [
    "data[(data.localtime_horodate >= '2018-03-25') & (data.localtime_horodate <= '2018-03-26')]"
   ]
  },
  {
   "cell_type": "markdown",
   "metadata": {
    "id": "zg86sy5caAuw"
   },
   "source": [
    "Pour rechercher les horodates manquantes dans la série temporelle indexée sur le temps local, nous pouvons générer la liste complète des horodates à la fréquence de 6 minutes entre le premier et le dernier horodate en temps local."
   ]
  },
  {
   "cell_type": "markdown",
   "metadata": {
    "id": "Z7yp_mkF7fyF"
   },
   "source": [
    "Utilisez [`pandas.date_range`](https://pandas.pydata.org/docs/reference/api/pandas.date_range.html) pour obtenir la liste des timestamps sur la plage de temps considérée, puis créez une dataframe contenant une seule colonne avec cette liste :"
   ]
  },
  {
   "cell_type": "code",
   "execution_count": null,
   "metadata": {
    "colab": {
     "base_uri": "https://localhost:8080/",
     "height": 423
    },
    "id": "fEdheLiCdQab",
    "outputId": "e4060891-ed5f-468f-a814-f291b12eb504"
   },
   "outputs": [],
   "source": [
    "complete_horodates = pd.date_range(convert_utc_to_localtime(start), convert_utc_to_localtime(end), freq='6T')\n",
    "complete_tr = pd.DataFrame(data={'localtime_horodate_complete': complete_horodates})\n",
    "complete_tr"
   ]
  },
  {
   "cell_type": "markdown",
   "metadata": {
    "id": "KGCPUn51hDmk"
   },
   "source": [
    "Réalisez une jointure avec [`pandas.merge`](https://pandas.pydata.org/docs/reference/api/pandas.merge.html) entre cette dataframe et notre dataframe `data` :"
   ]
  },
  {
   "cell_type": "code",
   "execution_count": null,
   "metadata": {
    "id": "FoY9Xe3v7qmE"
   },
   "outputs": [],
   "source": [
    "complete_tr = pd.DataFrame(data={'localtime_horodate_complete': complete_horodates})\n",
    "data = data.merge(complete_tr,\n",
    "                  left_on='localtime_horodate',\n",
    "                  right_on='localtime_horodate_complete', how='right')"
   ]
  },
  {
   "cell_type": "markdown",
   "metadata": {
    "id": "P_zf78Yg9Yph"
   },
   "source": [
    "Identifiez les tuples correspondant à des horodates manquantes dans le dataset et déterminez la cause probable pour ces manquants :"
   ]
  },
  {
   "cell_type": "code",
   "execution_count": null,
   "metadata": {
    "colab": {
     "base_uri": "https://localhost:8080/",
     "height": 163
    },
    "id": "aBwz4zn87rZ1",
    "outputId": "e5783a41-6343-4146-e865-4c911c43f371",
    "scrolled": true
   },
   "outputs": [],
   "source": [
    "rows_with_missing_values = data.loc[data.horodate.isna()].index\n",
    "\n",
    "data.iloc[rows_with_missing_values]"
   ]
  },
  {
   "cell_type": "markdown",
   "metadata": {
    "id": "cxgaPB7mHi81"
   },
   "source": [
    "---> *Ce sont probablement des défauts de capteur ou de remonté de donnée.*"
   ]
  },
  {
   "cell_type": "markdown",
   "metadata": {
    "id": "dUfMlmBVz9dt"
   },
   "source": [
    "## 12.3 Correction des valeurs (valeurs décalées et manquantes)\n",
    "\n",
    "Nous allons remplacer ces valeurs manquantes par la valeur pour le même jour la semaine suivante. Nous pourrions aussi recourir à la méthode `interpolate` pour réaliser une interpolation des valeurs manquantes entre deux valeurs présentes.\n",
    "\n",
    "Commencez par appliquez la méthode [`pandas.DataFrame.shift`](https://pandas.pydata.org/docs/reference/api/pandas.DataFrame.shift.html) sur les colonnes `flow` et `velocity` pour obtenir un décalage d'une semaine :"
   ]
  },
  {
   "cell_type": "code",
   "execution_count": null,
   "metadata": {
    "colab": {
     "base_uri": "https://localhost:8080/"
    },
    "id": "j2BeVe0JHi81",
    "outputId": "4c9ba27a-e82f-4c38-83f1-b7347a404b88"
   },
   "outputs": [],
   "source": [
    "data['flow'].shift(10 * 24 * 7)"
   ]
  },
  {
   "cell_type": "markdown",
   "metadata": {
    "id": "KrWrNpX8Hi81"
   },
   "source": [
    "Utilisez la méthode [`pandas.DataFrame.fillna`](https://pandas.pydata.org/docs/reference/api/pandas.DataFrame.fillna.html) pour remplacer les valeurs manquantes en utilisant les valeurs de la semaine suivante pour les colonnes `flow` et `velocity` :"
   ]
  },
  {
   "cell_type": "code",
   "execution_count": null,
   "metadata": {
    "id": "NBvYEVkzHi81"
   },
   "outputs": [],
   "source": [
    "data['flow'] = data.flow.fillna(data.flow.shift(10 * 24 * 7))\n",
    "data['velocity'] = data.velocity.fillna(data.flow.shift(10 * 24 * 7))"
   ]
  },
  {
   "cell_type": "code",
   "execution_count": null,
   "metadata": {
    "colab": {
     "base_uri": "https://localhost:8080/",
     "height": 790
    },
    "id": "oJzearCsHi81",
    "outputId": "0b254441-49d5-45b9-f22b-4007e169f772",
    "scrolled": true
   },
   "outputs": [],
   "source": [
    "data"
   ]
  },
  {
   "cell_type": "markdown",
   "metadata": {
    "id": "mZAihq3-Hi81"
   },
   "source": [
    "Affichez les valeurs que nous venont d'imputer :"
   ]
  },
  {
   "cell_type": "code",
   "execution_count": null,
   "metadata": {
    "colab": {
     "base_uri": "https://localhost:8080/",
     "height": 163
    },
    "id": "ERvJBnk0Hi82",
    "outputId": "09a2457e-19f0-4f6a-ccbe-55ebdabd8b47"
   },
   "outputs": [],
   "source": [
    "data.iloc[rows_with_missing_values]"
   ]
  },
  {
   "cell_type": "markdown",
   "metadata": {
    "id": "iJIO-Xm_Hi82"
   },
   "source": [
    "Recréez les colonnes indiquant l'année, le mois, la date (YYYY-MM-DD), le jour de la semaine, l'heure, la minute depuis la colonnes `localtime_horodate_complete` pour obtenir ces valeurs en timezone CET et quelles soient présentes pour toutes les lignes :"
   ]
  },
  {
   "cell_type": "code",
   "execution_count": null,
   "metadata": {
    "id": "Ex7tV5MBjdCG"
   },
   "outputs": [],
   "source": [
    "data['year'] = data['localtime_horodate_complete'].dt.year\n",
    "data['month'] = data['localtime_horodate_complete'].dt.month\n",
    "data['date'] = data['localtime_horodate_complete'].dt.date\n",
    "data['weekday'] = data['localtime_horodate_complete'].dt.weekday\n",
    "data['hour'] = data['localtime_horodate_complete'].dt.hour\n",
    "data['minute'] = data['localtime_horodate_complete'].dt.minute"
   ]
  },
  {
   "cell_type": "code",
   "execution_count": null,
   "metadata": {
    "colab": {
     "base_uri": "https://localhost:8080/",
     "height": 215
    },
    "id": "cn6WYnBPHi82",
    "outputId": "4289f8ac-6a5c-45b8-90aa-bdc7730716f4"
   },
   "outputs": [],
   "source": [
    "data.iloc[rows_with_missing_values]"
   ]
  },
  {
   "cell_type": "markdown",
   "metadata": {
    "id": "asXMRkGRHi82"
   },
   "source": [
    "Analysez le code suivant, décrivez son fonctionnement et le résultat obtenu (pensez à utiliser des affichages intermédiaires des différentes étapes) :"
   ]
  },
  {
   "cell_type": "code",
   "execution_count": null,
   "metadata": {
    "id": "fG7DS7xUhEFg"
   },
   "outputs": [],
   "source": [
    "data_mode_per_day = data[['date', 'bank_holiday', 'school_holiday']].groupby('date').agg(pd.Series.mode).reset_index()\n",
    "data_mode_per_day.date = data_mode_per_day.date.astype(str)\n",
    "data.date = data.date.astype(str)\n",
    "data = data.merge(\n",
    "    data_mode_per_day,\n",
    "    on='date',\n",
    "    suffixes=('', '_imputation_value'),\n",
    "    how='left'\n",
    ")\n",
    "for column in ['bank_holiday', 'school_holiday']:\n",
    "    data[column] = data['{}_imputation_value'.format(column)]"
   ]
  },
  {
   "cell_type": "code",
   "execution_count": null,
   "metadata": {
    "colab": {
     "base_uri": "https://localhost:8080/",
     "height": 423
    },
    "id": "W5bX2h-JHi82",
    "outputId": "1c60e3ab-4743-47e0-bc1e-1feb8b1a7587"
   },
   "outputs": [],
   "source": [
    "data_mode_per_day"
   ]
  },
  {
   "cell_type": "code",
   "execution_count": null,
   "metadata": {
    "colab": {
     "base_uri": "https://localhost:8080/",
     "height": 215
    },
    "id": "o0UUODnqHi83",
    "outputId": "a9b116a8-db8b-4b56-aa56-b2d47123089b"
   },
   "outputs": [],
   "source": [
    "data.iloc[rows_with_missing_values]"
   ]
  },
  {
   "cell_type": "markdown",
   "metadata": {
    "id": "BCVDm8x3fJf6"
   },
   "source": [
    "Quelles sont les limites de la méthode d'imputation que vous avez appliqué ?"
   ]
  },
  {
   "cell_type": "markdown",
   "metadata": {
    "id": "uEQz-6CWHi83"
   },
   "source": [
    "---> *Cette méthode ne fonctionnera s'il manque plusieurs jours consécutifs.*"
   ]
  },
  {
   "cell_type": "markdown",
   "metadata": {
    "id": "zHEcZ5PQHi83"
   },
   "source": [
    "Supprimez les colonnes inutiles (`horodate`, `bank_holiday_imputation_value` et `school_holiday_imputation_value`) :"
   ]
  },
  {
   "cell_type": "code",
   "execution_count": null,
   "metadata": {
    "id": "RlChwRquiESx"
   },
   "outputs": [],
   "source": [
    "data = data[[\n",
    "    'flow', 'occupation', 'velocity', 'date', 'bank_holiday', 'school_holiday',\n",
    "    'year', 'month', 'weekday', 'hour', 'minute', 'localtime_horodate', 'localtime_horodate_complete'\n",
    "]]"
   ]
  },
  {
   "cell_type": "markdown",
   "metadata": {
    "id": "UItrXUGZ-FwI"
   },
   "source": [
    "## 12.4 Identification des dates en doublon\n",
    "\n",
    "Y a-t-il des des doublons sur l'horodate local ? S'il y en a, supprimez les."
   ]
  },
  {
   "cell_type": "code",
   "execution_count": null,
   "metadata": {
    "colab": {
     "base_uri": "https://localhost:8080/",
     "height": 73
    },
    "id": "pA0VZ4mAWB00",
    "outputId": "dc2e4470-f978-4c0c-8609-784d8fa411bc"
   },
   "outputs": [],
   "source": [
    "data[data.duplicated(subset=['localtime_horodate_complete'])]"
   ]
  },
  {
   "cell_type": "markdown",
   "metadata": {
    "id": "lj6-PfgEnlkR"
   },
   "source": [
    "## 12.5 Manipulation des données"
   ]
  },
  {
   "cell_type": "markdown",
   "metadata": {
    "id": "iNJZtxKUoD_l"
   },
   "source": [
    "Pour effectuer des analyses temporelles sur les données, il est souvent pratique d'indéxer la dataframe sur les horodates. Ré-indexez votre dataframe avec la colonne de l'horodate locale :"
   ]
  },
  {
   "cell_type": "code",
   "execution_count": null,
   "metadata": {
    "id": "Ryie6qSVn1zX"
   },
   "outputs": [],
   "source": [
    "data.set_index(\"localtime_horodate_complete\", inplace=True)"
   ]
  },
  {
   "cell_type": "markdown",
   "metadata": {
    "id": "PV_V_q24_m1X"
   },
   "source": [
    "### 12.5.1 Analyse de la saisonnalité des données\n",
    "\n",
    "Utilisez la fonction [`pandas.plotting.autocorrelation_plot`](https://pandas.pydata.org/docs/reference/api/pandas.plotting.autocorrelation_plot.html) pour afficher le diagramme d'autocorrélation du trafic et/ou utilisez la fonction `plot_autocorrelation_lags` définie ci-dessous. Puis expliquez ce diagramme d'autocorrélation, les données sont-elles saisonnières ?"
   ]
  },
  {
   "cell_type": "code",
   "execution_count": null,
   "metadata": {
    "colab": {
     "base_uri": "https://localhost:8080/",
     "height": 472
    },
    "id": "e_bCIVtcHi83",
    "outputId": "84c33b0b-d101-40f5-dd3a-a7e793c780fa"
   },
   "outputs": [],
   "source": []
  },
  {
   "cell_type": "code",
   "execution_count": null,
   "metadata": {
    "id": "8ldD5kOH_qug"
   },
   "outputs": [],
   "source": [
    "from scipy import signal\n",
    "\n",
    "def plot_autocorrelation_lags(s):\n",
    "    corr = signal.correlate(s - s.mean(), s - s.mean())\n",
    "    corr /= np.max(corr)\n",
    "    corr = corr[len(s):]\n",
    "\n",
    "    fig = px.scatter(corr)\n",
    "\n",
    "    fig.show()"
   ]
  },
  {
   "cell_type": "code",
   "execution_count": null,
   "metadata": {
    "colab": {
     "base_uri": "https://localhost:8080/",
     "height": 542
    },
    "id": "m4xdOQEO_q2k",
    "outputId": "abdb0392-856c-4f40-db1a-c353b47a4e21"
   },
   "outputs": [],
   "source": []
  },
  {
   "cell_type": "markdown",
   "metadata": {
    "id": "WUzcj80JHi84"
   },
   "source": [
    "\n",
    "---\n",
    "\n"
   ]
  },
  {
   "cell_type": "markdown",
   "metadata": {
    "id": "duO7xdidcRGw"
   },
   "source": [
    "### 11.5.2 Rééchantillonnage des données"
   ]
  },
  {
   "cell_type": "markdown",
   "metadata": {
    "id": "y-SZO6AenB31"
   },
   "source": [
    "Avec pandas, certaines opérations sur les séries temporelles sont très simplifiées, comme le rééchantillonnage.\n",
    "\n",
    "Rééchantillonnez le dataset avec une fréquence de 12min (créez une dataframe `data_12`) et 24 min (`data_24`) en utilisant la méthode [`pandas.DataFrame.resample`](https://pandas.pydata.org/docs/reference/api/pandas.DataFrame.resample.html), vous devez choisir une méthode d'aggrégation adaptée (pour les colonnes flow, occupation et velocity uniquement) :"
   ]
  },
  {
   "cell_type": "code",
   "execution_count": null,
   "metadata": {
    "id": "jcPpgdHj92Mq"
   },
   "outputs": [],
   "source": []
  },
  {
   "cell_type": "code",
   "execution_count": null,
   "metadata": {
    "colab": {
     "base_uri": "https://localhost:8080/",
     "height": 455
    },
    "id": "aUQinLRsHi88",
    "outputId": "b290575a-3fb2-4b22-e03d-3e03952bf06d",
    "scrolled": true
   },
   "outputs": [],
   "source": [
    "data_12"
   ]
  },
  {
   "cell_type": "markdown",
   "metadata": {
    "id": "jsMTWnbgpGXF"
   },
   "source": [
    "Affichez les données de trafic (`flow`) avec la fonction [`line`](https://plotly.com/python/line-charts/)plotly express pour les 3 premiers jours de `data`, `data_12` et `data_24`. Que remarquez-vous quant à l'effet du resampling ?"
   ]
  },
  {
   "cell_type": "code",
   "execution_count": null,
   "metadata": {
    "colab": {
     "base_uri": "https://localhost:8080/",
     "height": 542
    },
    "id": "Qpcd1gtspeUW",
    "outputId": "4b41e047-7164-4744-f43d-b967aff6a429"
   },
   "outputs": [],
   "source": []
  },
  {
   "cell_type": "code",
   "execution_count": null,
   "metadata": {
    "colab": {
     "base_uri": "https://localhost:8080/",
     "height": 542
    },
    "id": "qHJF1zhsHi88",
    "outputId": "1af9abbd-0300-441a-cc8e-e991c4364d57"
   },
   "outputs": [],
   "source": []
  },
  {
   "cell_type": "code",
   "execution_count": null,
   "metadata": {
    "colab": {
     "base_uri": "https://localhost:8080/",
     "height": 542
    },
    "id": "ShUnwMFsHi88",
    "outputId": "2c27d815-1b0a-4e02-9bfd-87c7ba0e217f"
   },
   "outputs": [],
   "source": []
  },
  {
   "cell_type": "markdown",
   "metadata": {
    "id": "5mMsNm16Hi88"
   },
   "source": []
  },
  {
   "cell_type": "markdown",
   "metadata": {
    "id": "w91SQub_qY2v"
   },
   "source": [
    "### 12.5.3 Simplification des données\n",
    "\n",
    "Simplifions les données en ne retenant que le trafic pour les mardis. Créez une dataframe `data_tuesday` ne contenant que les mardis, affichez l'autocorrélogramme du trafic et comparez le résultat obtenu avec celui obtenu sur tout le dataset :"
   ]
  },
  {
   "cell_type": "code",
   "execution_count": null,
   "metadata": {
    "id": "wqAg-zlkkkPE"
   },
   "outputs": [],
   "source": [
    "data_tuesday = data.loc[data.weekday == ###]"
   ]
  },
  {
   "cell_type": "code",
   "execution_count": null,
   "metadata": {
    "colab": {
     "base_uri": "https://localhost:8080/",
     "height": 542
    },
    "id": "e3YdFlDmCCFk",
    "outputId": "f686e175-d97e-453a-b9af-31a529c19b83",
    "scrolled": false
   },
   "outputs": [],
   "source": [
    "plot_autocorrelation_lags(data_tuesday.flow)"
   ]
  },
  {
   "cell_type": "markdown",
   "metadata": {
    "id": "9oT1rE5ssBYK"
   },
   "source": [
    "Affichez les courbes de trafic pour tous les mardis de notre dataset avec `px.line`. Pour obtenir le meilleur affichage possible :\n",
    "* appelez la méthode `update_xaxes` sur votre figure, après l'avoir créé et avant de l'afficher, en utilisant le paremètre `rangebreaks=[{'bounds': [\"wed\", \"tues\"]}]` pour cacher les sauts de dates\n",
    "* utiliser le paramètre `render_mode=\"svg\"` pour l'appel à `px.line` (pour éviter un bug connu de plotly sur l'affichage d'un graphique avec un saut de dates et le moteur de rendu WebGL)\n",
    "\n",
    "Remarquez-vous des particularités ?"
   ]
  },
  {
   "cell_type": "code",
   "execution_count": null,
   "metadata": {
    "colab": {
     "base_uri": "https://localhost:8080/",
     "height": 542
    },
    "id": "ToCIHiA5nepL",
    "outputId": "20022b58-bc68-4a73-df9f-1fc17703203f"
   },
   "outputs": [],
   "source": [
    "fig = px.line(data_tuesday, y='flow', render_mode=\"svg\")\n",
    "\n",
    "fig.update_xaxes(rangebreaks=[{'bounds': [\"wed\", \"tues\"]}])\n",
    "\n",
    "fig.show()"
   ]
  },
  {
   "cell_type": "markdown",
   "metadata": {
    "id": "jgyV1Yu-wfxM"
   },
   "source": [
    "### 12.5.4 Détection des outliers\n",
    "\n",
    "On considère mettre en œuvre un modèle prédictif linéaire pour les données de trafic du dataset. D'après le graphique ci-dessus, les données ne sont pas très qualitatives...\n",
    "\n",
    "**Identifiez deux problèmes dans ces données.**\n",
    "\n",
    "L'unité de détection des anomalies doit respecter la saisonnalité, soit dans cette série simplifiée, la journée.\n",
    "\n",
    "Pour détecter (et éliminer) les jours où les données sont de mauvaise qualité, nous proposons d'utiliser la décomposition . L'idée est la suivante :\n",
    "- On effectue une décomposition\n",
    "- Les valeurs de tendance, de saisonnalité et de résidu à chaque horodate peuvent être considérées comme des attributs\n",
    "- On cherche les anomalies dans l'espace de ces attributs au moyen d'un algorithme d'identification d'outliers, par ex. IsolationTrees\n",
    "- On devra alors rejeter les jours contenant trop d'horodates 'outlier' selon cet algorithme."
   ]
  },
  {
   "cell_type": "markdown",
   "metadata": {
    "id": "3PWCtiLDHi89"
   },
   "source": [
    "#### 12.5.4.1 Décomposition\n",
    "\n",
    "Réalisez une décomposition du trafic avec la fonction [`statsmodels.tsa.seasonal.seasonal_decompose`](https://www.statsmodels.org/dev/generated/statsmodels.tsa.seasonal.seasonal_decompose.html) avec les paramètres suivants :\n",
    "* `x=df.flow.values` : essayez de passer directement `df.flow` puis commentez\n",
    "* `model='additive'` : comparez `additive` et `multiplicative`\n",
    "* `period: int` : trouvez la bonne valeur\n",
    "* `extrapolate_trend=True` : pour obtenir une trend sur toute la série observée\n",
    "\n",
    "Puis affichez les valeurs des attributs résultant de la décomposition."
   ]
  },
  {
   "cell_type": "code",
   "execution_count": null,
   "metadata": {
    "colab": {
     "base_uri": "https://localhost:8080/",
     "height": 36
    },
    "id": "dMIdXxbCHi89",
    "outputId": "56939977-895c-4ce2-9f39-ceb21d57d699"
   },
   "outputs": [],
   "source": [
    "import statsmodels\n",
    "statsmodels.__version__"
   ]
  },
  {
   "cell_type": "code",
   "execution_count": null,
   "metadata": {
    "id": "_DeLmi_GHi89"
   },
   "outputs": [],
   "source": [
    "from statsmodels.tsa.seasonal import seasonal_decompose\n",
    "\n",
    "###"
   ]
  },
  {
   "cell_type": "markdown",
   "metadata": {
    "id": "T5Su2dUUHi89"
   },
   "source": [
    "Affichez les graphiques de cette décomposition en utilisant la méthode `plot` sur le résultat de la décomposition. Vous pouvez afficher un graphique plus lisible en utilisant les instructions `fig.set_size_inches((16, 9))` et `fig.tight_layout()` (prenez soin d'affecter le résultat de l'appel à `plot` dans une variable nommée `fig`) :"
   ]
  },
  {
   "cell_type": "code",
   "execution_count": null,
   "metadata": {
    "colab": {
     "base_uri": "https://localhost:8080/",
     "height": 672
    },
    "id": "f5uXxohzHi89",
    "outputId": "256b5483-be1d-407d-f49d-b5a452c92b64"
   },
   "outputs": [],
   "source": [
    "fig = ###\n",
    "fig.set_size_inches((16, 9))\n",
    "fig.tight_layout()"
   ]
  },
  {
   "cell_type": "markdown",
   "metadata": {
    "id": "6iO_ViplHi89"
   },
   "source": [
    "Créez des colonnes dans votre dataframe contenant les valeurs de saisonnalité, de tendance et de résidu de notre décomposition pour chaque ligne :"
   ]
  },
  {
   "cell_type": "code",
   "execution_count": null,
   "metadata": {
    "colab": {
     "base_uri": "https://localhost:8080/",
     "height": 648
    },
    "id": "DxKwhK5LHi89",
    "outputId": "8c334da9-03cb-401e-86dd-5681eb62f955",
    "scrolled": false
   },
   "outputs": [],
   "source": []
  },
  {
   "cell_type": "markdown",
   "metadata": {
    "id": "tiybQ2o-Hi89"
   },
   "source": [
    "#### 12.5.4.2 Recherche des outliers\n",
    "\n",
    "Entrainez un modèle [`sklearn.ensemble.IsolationForest`](https://scikit-learn.org/stable/modules/generated/sklearn.ensemble.IsolationForest.html) sur la résidu de la décomposition en précisant comme paramètre lors de la création de l'instance `contamination=.2`. Puis réalisez une prédiction sur sur ce même résidu, interprétez le résultat et affectez le à une colonne `valid_value` de votre dataframe :"
   ]
  },
  {
   "cell_type": "code",
   "execution_count": null,
   "metadata": {
    "id": "JTePHMSeHi89"
   },
   "outputs": [],
   "source": [
    "from sklearn.ensemble import IsolationForest\n",
    "\n",
    "model = IsolationForest(contamination=.2)\n",
    "df['valid_value'] = ###"
   ]
  },
  {
   "cell_type": "markdown",
   "metadata": {
    "id": "d4x6uFeMHi8-"
   },
   "source": [
    "Créez une series contenant la somme des `valid_value` par jour puis ajoutez une colonne (nommée `valid_value_sum`) indiquant la valeur de cette somme pour chaque ligne (indices : `groupby` et `merge` permettent de réaliser cette opération) :"
   ]
  },
  {
   "cell_type": "code",
   "execution_count": null,
   "metadata": {
    "colab": {
     "base_uri": "https://localhost:8080/",
     "height": 718
    },
    "id": "pkMmASQlHi8-",
    "outputId": "42065f6a-0d9c-4ddc-a2b4-0e479a67c9c1",
    "scrolled": true
   },
   "outputs": [],
   "source": []
  },
  {
   "cell_type": "markdown",
   "metadata": {
    "id": "D0s_m11NHi8-"
   },
   "source": [
    "Affichez un graphique des `valid_value_sum` et en dessous un graphique de la colonne `flow`, que constatez-vous ? (pour plus de lisibilité, vous pouvez réalisez une copie de votre dataframe et remplacer l'index par `df.index.astype('category')`)"
   ]
  },
  {
   "cell_type": "code",
   "execution_count": null,
   "metadata": {
    "colab": {
     "base_uri": "https://localhost:8080/",
     "height": 455
    },
    "id": "PCFLzCS8Hi8-",
    "outputId": "1efac9ad-3e2d-47af-8d7d-63d75f06f562"
   },
   "outputs": [],
   "source": [
    "df_plot = df.copy()\n",
    "df_plot.index = df_plot.index.astype('category')\n",
    "df_plot.valid_value_sum.plot(figsize=(30, 5))\n",
    "plt.show()\n",
    "df_plot.flow.plot(figsize=(30, 5))\n",
    "plt.show()"
   ]
  },
  {
   "cell_type": "markdown",
   "metadata": {
    "id": "2RHQcwFrHi8-"
   },
   "source": [
    "On peut se fixer un seuil grossier pour décider quand une date doit être considérée comme outlier. Ajoutez une colonne `date_is_outlier` qui vaut `True` si `valid_value_sum` est inférieure à 100 :"
   ]
  },
  {
   "cell_type": "code",
   "execution_count": null,
   "metadata": {
    "colab": {
     "base_uri": "https://localhost:8080/",
     "height": 344
    },
    "id": "-K7-o1Y2Qlcl",
    "outputId": "19e7445e-a4c1-4241-829b-9f2975ef4cd3"
   },
   "outputs": [],
   "source": [
    "df['date_is_outlier'] = ###\n",
    "df.head()"
   ]
  },
  {
   "cell_type": "markdown",
   "metadata": {
    "id": "D0MeXtpDHi8-"
   },
   "source": [
    "Quels sont les jours outliers selon notre critère ?"
   ]
  },
  {
   "cell_type": "code",
   "execution_count": null,
   "metadata": {
    "colab": {
     "base_uri": "https://localhost:8080/"
    },
    "id": "f_Us0E80Hi8-",
    "outputId": "53e811ca-af42-4a14-ffc1-be83d78ace6b",
    "scrolled": true
   },
   "outputs": [],
   "source": []
  },
  {
   "cell_type": "markdown",
   "metadata": {
    "id": "lMWu6ilDHi8-"
   },
   "source": [
    "Créez une nouvelle dataframe contenant que le trafic des jours qui ne sont pas outliers puis affichez un graphique des valeurs de `flow` pour cette dataframe :"
   ]
  },
  {
   "cell_type": "code",
   "execution_count": null,
   "metadata": {
    "id": "w8_goNYBHi8-",
    "scrolled": true
   },
   "outputs": [],
   "source": []
  },
  {
   "cell_type": "code",
   "execution_count": null,
   "metadata": {
    "colab": {
     "base_uri": "https://localhost:8080/",
     "height": 542
    },
    "id": "_DpgDAa2HJCK",
    "outputId": "42b71138-0cfb-488c-d14b-2411c736c341"
   },
   "outputs": [],
   "source": []
  },
  {
   "cell_type": "markdown",
   "metadata": {
    "id": "DCK8fx-32v3e"
   },
   "source": [
    "Vérifiez que le nettoyage donne une décomposition plus encourageante..."
   ]
  },
  {
   "cell_type": "code",
   "execution_count": null,
   "metadata": {
    "colab": {
     "base_uri": "https://localhost:8080/",
     "height": 672
    },
    "id": "WebF8xbsHi8-",
    "outputId": "92fb7619-950c-4b34-f1d8-fb5291ca7a16"
   },
   "outputs": [],
   "source": []
  }
 ],
 "metadata": {
  "colab": {
   "provenance": []
  },
  "kernelspec": {
   "display_name": "Python 3 (ipykernel)",
   "language": "python",
   "name": "python3"
  },
  "language_info": {
   "codemirror_mode": {
    "name": "ipython",
    "version": 3
   },
   "file_extension": ".py",
   "mimetype": "text/x-python",
   "name": "python",
   "nbconvert_exporter": "python",
   "pygments_lexer": "ipython3",
   "version": "3.9.13"
  }
 },
 "nbformat": 4,
 "nbformat_minor": 1
}
